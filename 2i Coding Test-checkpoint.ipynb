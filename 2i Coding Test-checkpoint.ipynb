{
 "cells": [
  {
   "cell_type": "code",
   "execution_count": 46,
   "id": "e4efab79",
   "metadata": {},
   "outputs": [
    {
     "name": "stdout",
     "output_type": "stream",
     "text": [
      "0 7 14 21 28 35 42 49 56 63 70 77 84 91 98 104 112 120 128 136 144 152 160 168 176 184 192 200 207 216 225 234 243 252 261 270 279 288 297\n"
     ]
    }
   ],
   "source": [
    "#Create code that iterates in multiples of 7 up until 100, then in multiples of 8 up to 200, then multiples of 9 up to 300\n",
    "def func():\n",
    "    #MULTIPLES OF 7 UP UNTIL 100\n",
    "    x = [i for i in range(100) if i % 7 == 0] \n",
    "    #MULTIPLES OF 8 UP TO 200\n",
    "    y = [i for i in range(101, 201) if i % 8 == 0]\n",
    "    #MULTIPLES OF 9 UP TO 300\n",
    "    z = [i for i in range(201, 301) if i % 9 == 0] \n",
    "    print(*x,*y,*z) #if in a list format then take out *ARGS, if as tuple then x = tuple(i for i ...)\n",
    "    \n",
    "func()"
   ]
  },
  {
   "cell_type": "code",
   "execution_count": null,
   "id": "696b08f7",
   "metadata": {},
   "outputs": [],
   "source": []
  }
 ],
 "metadata": {
  "kernelspec": {
   "display_name": "Python 3.9 (tensorflow)",
   "language": "python",
   "name": "tensorflow"
  },
  "language_info": {
   "codemirror_mode": {
    "name": "ipython",
    "version": 3
   },
   "file_extension": ".py",
   "mimetype": "text/x-python",
   "name": "python",
   "nbconvert_exporter": "python",
   "pygments_lexer": "ipython3",
   "version": "3.9.5"
  }
 },
 "nbformat": 4,
 "nbformat_minor": 5
}
